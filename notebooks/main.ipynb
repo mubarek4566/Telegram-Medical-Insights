{
 "cells": [
  {
   "cell_type": "code",
   "execution_count": 1,
   "id": "897b8a35",
   "metadata": {},
   "outputs": [],
   "source": [
    "import pandas as pd \n",
    "import numpy as np \n",
    "import sys\n",
    "import asyncio\n",
    "sys.path.append('../scripts')\n",
    "\n",
    "from telegram_scraper import scrape_telegram_channels, download_images_from_channels"
   ]
  },
  {
   "cell_type": "code",
   "execution_count": null,
   "id": "c213364f",
   "metadata": {},
   "outputs": [],
   "source": [
    "# Load all secretes \n",
    "\n",
    "from config import API_HOST, API_PORT, POSTGRES_USER\n",
    "\n",
    "print(f\"Connecting to DB as user: {POSTGRES_USER}\")\n"
   ]
  },
  {
   "cell_type": "markdown",
   "id": "1ce63076",
   "metadata": {},
   "source": [
    "## Data Scraping and Collection (Extract & Load)\n",
    "Extract relevant text, image, price, product name, and timestamp data from public Telegram channels and save it to your raw data zone (e.g., JSON or Parquet files)."
   ]
  },
  {
   "cell_type": "markdown",
   "id": "58f97045",
   "metadata": {},
   "source": [
    "### Scraping Telegram data using json format"
   ]
  },
  {
   "cell_type": "code",
   "execution_count": 3,
   "id": "0a094637",
   "metadata": {},
   "outputs": [
    {
     "name": "stdout",
     "output_type": "stream",
     "text": [
      "🔍 Scraping messages from: https://t.me/Chemed123\n"
     ]
    },
    {
     "ename": "ConnectionError",
     "evalue": "Cannot send requests while disconnected",
     "output_type": "error",
     "traceback": [
      "\u001b[31m---------------------------------------------------------------------------\u001b[39m",
      "\u001b[31mConnectionError\u001b[39m                           Traceback (most recent call last)",
      "\u001b[36mCell\u001b[39m\u001b[36m \u001b[39m\u001b[32mIn[3]\u001b[39m\u001b[32m, line 2\u001b[39m\n\u001b[32m      1\u001b[39m \u001b[38;5;66;03m# Run the async scraper function from notebook\u001b[39;00m\n\u001b[32m----> \u001b[39m\u001b[32m2\u001b[39m \u001b[38;5;28;01mawait\u001b[39;00m scrape_telegram_channels()\n",
      "\u001b[36mFile \u001b[39m\u001b[32mc:\\Users\\Specter\\Documents\\Tenx_Academy\\Week-7\\telegram-medical-insights\\notebooks\\../scripts\\telegram_scraper.py:30\u001b[39m, in \u001b[36mscrape_telegram_channels\u001b[39m\u001b[34m(limit, save_path)\u001b[39m\n\u001b[32m     28\u001b[39m \u001b[38;5;28;01mfor\u001b[39;00m ch \u001b[38;5;129;01min\u001b[39;00m channels:\n\u001b[32m     29\u001b[39m     \u001b[38;5;28mprint\u001b[39m(\u001b[33mf\u001b[39m\u001b[33m\"\u001b[39m\u001b[33m🔍 Scraping messages from: \u001b[39m\u001b[38;5;132;01m{\u001b[39;00mch\u001b[38;5;132;01m}\u001b[39;00m\u001b[33m\"\u001b[39m)\n\u001b[32m---> \u001b[39m\u001b[32m30\u001b[39m     channel = \u001b[38;5;28;01mawait\u001b[39;00m client.get_entity(ch)\n\u001b[32m     31\u001b[39m     \u001b[38;5;28;01masync\u001b[39;00m \u001b[38;5;28;01mfor\u001b[39;00m msg \u001b[38;5;129;01min\u001b[39;00m client.iter_messages(channel, limit=limit):\n\u001b[32m     32\u001b[39m         \u001b[38;5;28;01mif\u001b[39;00m msg.message \u001b[38;5;129;01mor\u001b[39;00m msg.media:\n",
      "\u001b[36mFile \u001b[39m\u001b[32mc:\\Users\\Specter\\Documents\\Tenx_Academy\\Week-7\\telegram-medical-insights\\.venv\\Lib\\site-packages\\telethon\\client\\users.py:343\u001b[39m, in \u001b[36mUserMethods.get_entity\u001b[39m\u001b[34m(self, entity)\u001b[39m\n\u001b[32m    341\u001b[39m \u001b[38;5;28;01mfor\u001b[39;00m x \u001b[38;5;129;01min\u001b[39;00m inputs:\n\u001b[32m    342\u001b[39m     \u001b[38;5;28;01mif\u001b[39;00m \u001b[38;5;28misinstance\u001b[39m(x, \u001b[38;5;28mstr\u001b[39m):\n\u001b[32m--> \u001b[39m\u001b[32m343\u001b[39m         result.append(\u001b[38;5;28;01mawait\u001b[39;00m \u001b[38;5;28mself\u001b[39m._get_entity_from_string(x))\n\u001b[32m    344\u001b[39m     \u001b[38;5;28;01melif\u001b[39;00m \u001b[38;5;129;01mnot\u001b[39;00m \u001b[38;5;28misinstance\u001b[39m(x, types.InputPeerSelf):\n\u001b[32m    345\u001b[39m         result.append(id_entity[utils.get_peer_id(x, add_mark=\u001b[38;5;28;01mFalse\u001b[39;00m)])\n",
      "\u001b[36mFile \u001b[39m\u001b[32mc:\\Users\\Specter\\Documents\\Tenx_Academy\\Week-7\\telegram-medical-insights\\.venv\\Lib\\site-packages\\telethon\\client\\users.py:561\u001b[39m, in \u001b[36mUserMethods._get_entity_from_string\u001b[39m\u001b[34m(self, string)\u001b[39m\n\u001b[32m    559\u001b[39m \u001b[38;5;28;01melif\u001b[39;00m username:\n\u001b[32m    560\u001b[39m     \u001b[38;5;28;01mtry\u001b[39;00m:\n\u001b[32m--> \u001b[39m\u001b[32m561\u001b[39m         result = \u001b[38;5;28;01mawait\u001b[39;00m \u001b[38;5;28mself\u001b[39m(\n\u001b[32m    562\u001b[39m             functions.contacts.ResolveUsernameRequest(username))\n\u001b[32m    563\u001b[39m     \u001b[38;5;28;01mexcept\u001b[39;00m errors.UsernameNotOccupiedError \u001b[38;5;28;01mas\u001b[39;00m e:\n\u001b[32m    564\u001b[39m         \u001b[38;5;28;01mraise\u001b[39;00m \u001b[38;5;167;01mValueError\u001b[39;00m(\u001b[33m'\u001b[39m\u001b[33mNo user has \u001b[39m\u001b[33m\"\u001b[39m\u001b[38;5;132;01m{}\u001b[39;00m\u001b[33m\"\u001b[39m\u001b[33m as username\u001b[39m\u001b[33m'\u001b[39m\n\u001b[32m    565\u001b[39m                          .format(username)) \u001b[38;5;28;01mfrom\u001b[39;00m\u001b[38;5;250m \u001b[39m\u001b[34;01me\u001b[39;00m\n",
      "\u001b[36mFile \u001b[39m\u001b[32mc:\\Users\\Specter\\Documents\\Tenx_Academy\\Week-7\\telegram-medical-insights\\.venv\\Lib\\site-packages\\telethon\\client\\users.py:30\u001b[39m, in \u001b[36mUserMethods.__call__\u001b[39m\u001b[34m(self, request, ordered, flood_sleep_threshold)\u001b[39m\n\u001b[32m     29\u001b[39m \u001b[38;5;28;01masync\u001b[39;00m \u001b[38;5;28;01mdef\u001b[39;00m\u001b[38;5;250m \u001b[39m\u001b[34m__call__\u001b[39m(\u001b[38;5;28mself\u001b[39m: \u001b[33m'\u001b[39m\u001b[33mTelegramClient\u001b[39m\u001b[33m'\u001b[39m, request, ordered=\u001b[38;5;28;01mFalse\u001b[39;00m, flood_sleep_threshold=\u001b[38;5;28;01mNone\u001b[39;00m):\n\u001b[32m---> \u001b[39m\u001b[32m30\u001b[39m     \u001b[38;5;28;01mreturn\u001b[39;00m \u001b[38;5;28;01mawait\u001b[39;00m \u001b[38;5;28mself\u001b[39m._call(\u001b[38;5;28mself\u001b[39m._sender, request, ordered=ordered)\n",
      "\u001b[36mFile \u001b[39m\u001b[32mc:\\Users\\Specter\\Documents\\Tenx_Academy\\Week-7\\telegram-medical-insights\\.venv\\Lib\\site-packages\\telethon\\client\\users.py:72\u001b[39m, in \u001b[36mUserMethods._call\u001b[39m\u001b[34m(self, sender, request, ordered, flood_sleep_threshold)\u001b[39m\n\u001b[32m     70\u001b[39m \u001b[38;5;28;01mfor\u001b[39;00m attempt \u001b[38;5;129;01min\u001b[39;00m retry_range(\u001b[38;5;28mself\u001b[39m._request_retries):\n\u001b[32m     71\u001b[39m     \u001b[38;5;28;01mtry\u001b[39;00m:\n\u001b[32m---> \u001b[39m\u001b[32m72\u001b[39m         future = \u001b[43msender\u001b[49m\u001b[43m.\u001b[49m\u001b[43msend\u001b[49m\u001b[43m(\u001b[49m\u001b[43mrequest\u001b[49m\u001b[43m,\u001b[49m\u001b[43m \u001b[49m\u001b[43mordered\u001b[49m\u001b[43m=\u001b[49m\u001b[43mordered\u001b[49m\u001b[43m)\u001b[49m\n\u001b[32m     73\u001b[39m         \u001b[38;5;28;01mif\u001b[39;00m \u001b[38;5;28misinstance\u001b[39m(future, \u001b[38;5;28mlist\u001b[39m):\n\u001b[32m     74\u001b[39m             results = []\n",
      "\u001b[36mFile \u001b[39m\u001b[32mc:\\Users\\Specter\\Documents\\Tenx_Academy\\Week-7\\telegram-medical-insights\\.venv\\Lib\\site-packages\\telethon\\network\\mtprotosender.py:179\u001b[39m, in \u001b[36mMTProtoSender.send\u001b[39m\u001b[34m(self, request, ordered)\u001b[39m\n\u001b[32m    156\u001b[39m \u001b[38;5;250m\u001b[39m\u001b[33;03m\"\"\"\u001b[39;00m\n\u001b[32m    157\u001b[39m \u001b[33;03mThis method enqueues the given request to be sent. Its send\u001b[39;00m\n\u001b[32m    158\u001b[39m \u001b[33;03mstate will be saved until a response arrives, and a ``Future``\u001b[39;00m\n\u001b[32m   (...)\u001b[39m\u001b[32m    176\u001b[39m \u001b[33;03mimpossible to await receive a result that was never sent.\u001b[39;00m\n\u001b[32m    177\u001b[39m \u001b[33;03m\"\"\"\u001b[39;00m\n\u001b[32m    178\u001b[39m \u001b[38;5;28;01mif\u001b[39;00m \u001b[38;5;129;01mnot\u001b[39;00m \u001b[38;5;28mself\u001b[39m._user_connected:\n\u001b[32m--> \u001b[39m\u001b[32m179\u001b[39m     \u001b[38;5;28;01mraise\u001b[39;00m \u001b[38;5;167;01mConnectionError\u001b[39;00m(\u001b[33m'\u001b[39m\u001b[33mCannot send requests while disconnected\u001b[39m\u001b[33m'\u001b[39m)\n\u001b[32m    181\u001b[39m \u001b[38;5;28;01mif\u001b[39;00m \u001b[38;5;129;01mnot\u001b[39;00m utils.is_list_like(request):\n\u001b[32m    182\u001b[39m     \u001b[38;5;28;01mtry\u001b[39;00m:\n",
      "\u001b[31mConnectionError\u001b[39m: Cannot send requests while disconnected"
     ]
    }
   ],
   "source": [
    "# Run the async scraper function from notebook\n",
    "await scrape_telegram_channels()"
   ]
  },
  {
   "cell_type": "markdown",
   "id": "f9f10d96",
   "metadata": {},
   "source": [
    "### Scraping Telegram image data \n",
    "Image Scraping from Telegram Channels"
   ]
  },
  {
   "cell_type": "code",
   "execution_count": 2,
   "id": "04e1c52a",
   "metadata": {},
   "outputs": [
    {
     "name": "stdout",
     "output_type": "stream",
     "text": [
      "🖼️  Downloading images from: https://t.me/Chemed123\n"
     ]
    },
    {
     "ename": "ConnectionError",
     "evalue": "Cannot send requests while disconnected",
     "output_type": "error",
     "traceback": [
      "\u001b[31m---------------------------------------------------------------------------\u001b[39m",
      "\u001b[31mConnectionError\u001b[39m                           Traceback (most recent call last)",
      "\u001b[36mCell\u001b[39m\u001b[36m \u001b[39m\u001b[32mIn[2]\u001b[39m\u001b[32m, line 1\u001b[39m\n\u001b[32m----> \u001b[39m\u001b[32m1\u001b[39m \u001b[38;5;28;01mawait\u001b[39;00m download_images_from_channels()\n",
      "\u001b[36mFile \u001b[39m\u001b[32mc:\\Users\\Specter\\Documents\\Tenx_Academy\\Week-7\\telegram-medical-insights\\notebooks\\../scripts\\telegram_scraper.py:50\u001b[39m, in \u001b[36mdownload_images_from_channels\u001b[39m\u001b[34m(save_dir, limit)\u001b[39m\n\u001b[32m     48\u001b[39m \u001b[38;5;28;01mfor\u001b[39;00m ch \u001b[38;5;129;01min\u001b[39;00m channels:\n\u001b[32m     49\u001b[39m     \u001b[38;5;28mprint\u001b[39m(\u001b[33mf\u001b[39m\u001b[33m\"\u001b[39m\u001b[33m🖼️  Downloading images from: \u001b[39m\u001b[38;5;132;01m{\u001b[39;00mch\u001b[38;5;132;01m}\u001b[39;00m\u001b[33m\"\u001b[39m)\n\u001b[32m---> \u001b[39m\u001b[32m50\u001b[39m     channel = \u001b[38;5;28;01mawait\u001b[39;00m client.get_entity(ch)\n\u001b[32m     51\u001b[39m     folder_name = channel.username \u001b[38;5;129;01mor\u001b[39;00m channel.title.lower().replace(\u001b[33m\"\u001b[39m\u001b[33m \u001b[39m\u001b[33m\"\u001b[39m, \u001b[33m\"\u001b[39m\u001b[33m_\u001b[39m\u001b[33m\"\u001b[39m)\n\u001b[32m     52\u001b[39m     output_dir = os.path.join(save_dir, folder_name)\n",
      "\u001b[36mFile \u001b[39m\u001b[32mc:\\Users\\Specter\\Documents\\Tenx_Academy\\Week-7\\telegram-medical-insights\\.venv\\Lib\\site-packages\\telethon\\client\\users.py:343\u001b[39m, in \u001b[36mUserMethods.get_entity\u001b[39m\u001b[34m(self, entity)\u001b[39m\n\u001b[32m    341\u001b[39m \u001b[38;5;28;01mfor\u001b[39;00m x \u001b[38;5;129;01min\u001b[39;00m inputs:\n\u001b[32m    342\u001b[39m     \u001b[38;5;28;01mif\u001b[39;00m \u001b[38;5;28misinstance\u001b[39m(x, \u001b[38;5;28mstr\u001b[39m):\n\u001b[32m--> \u001b[39m\u001b[32m343\u001b[39m         result.append(\u001b[38;5;28;01mawait\u001b[39;00m \u001b[38;5;28mself\u001b[39m._get_entity_from_string(x))\n\u001b[32m    344\u001b[39m     \u001b[38;5;28;01melif\u001b[39;00m \u001b[38;5;129;01mnot\u001b[39;00m \u001b[38;5;28misinstance\u001b[39m(x, types.InputPeerSelf):\n\u001b[32m    345\u001b[39m         result.append(id_entity[utils.get_peer_id(x, add_mark=\u001b[38;5;28;01mFalse\u001b[39;00m)])\n",
      "\u001b[36mFile \u001b[39m\u001b[32mc:\\Users\\Specter\\Documents\\Tenx_Academy\\Week-7\\telegram-medical-insights\\.venv\\Lib\\site-packages\\telethon\\client\\users.py:561\u001b[39m, in \u001b[36mUserMethods._get_entity_from_string\u001b[39m\u001b[34m(self, string)\u001b[39m\n\u001b[32m    559\u001b[39m \u001b[38;5;28;01melif\u001b[39;00m username:\n\u001b[32m    560\u001b[39m     \u001b[38;5;28;01mtry\u001b[39;00m:\n\u001b[32m--> \u001b[39m\u001b[32m561\u001b[39m         result = \u001b[38;5;28;01mawait\u001b[39;00m \u001b[38;5;28mself\u001b[39m(\n\u001b[32m    562\u001b[39m             functions.contacts.ResolveUsernameRequest(username))\n\u001b[32m    563\u001b[39m     \u001b[38;5;28;01mexcept\u001b[39;00m errors.UsernameNotOccupiedError \u001b[38;5;28;01mas\u001b[39;00m e:\n\u001b[32m    564\u001b[39m         \u001b[38;5;28;01mraise\u001b[39;00m \u001b[38;5;167;01mValueError\u001b[39;00m(\u001b[33m'\u001b[39m\u001b[33mNo user has \u001b[39m\u001b[33m\"\u001b[39m\u001b[38;5;132;01m{}\u001b[39;00m\u001b[33m\"\u001b[39m\u001b[33m as username\u001b[39m\u001b[33m'\u001b[39m\n\u001b[32m    565\u001b[39m                          .format(username)) \u001b[38;5;28;01mfrom\u001b[39;00m\u001b[38;5;250m \u001b[39m\u001b[34;01me\u001b[39;00m\n",
      "\u001b[36mFile \u001b[39m\u001b[32mc:\\Users\\Specter\\Documents\\Tenx_Academy\\Week-7\\telegram-medical-insights\\.venv\\Lib\\site-packages\\telethon\\client\\users.py:30\u001b[39m, in \u001b[36mUserMethods.__call__\u001b[39m\u001b[34m(self, request, ordered, flood_sleep_threshold)\u001b[39m\n\u001b[32m     29\u001b[39m \u001b[38;5;28;01masync\u001b[39;00m \u001b[38;5;28;01mdef\u001b[39;00m\u001b[38;5;250m \u001b[39m\u001b[34m__call__\u001b[39m(\u001b[38;5;28mself\u001b[39m: \u001b[33m'\u001b[39m\u001b[33mTelegramClient\u001b[39m\u001b[33m'\u001b[39m, request, ordered=\u001b[38;5;28;01mFalse\u001b[39;00m, flood_sleep_threshold=\u001b[38;5;28;01mNone\u001b[39;00m):\n\u001b[32m---> \u001b[39m\u001b[32m30\u001b[39m     \u001b[38;5;28;01mreturn\u001b[39;00m \u001b[38;5;28;01mawait\u001b[39;00m \u001b[38;5;28mself\u001b[39m._call(\u001b[38;5;28mself\u001b[39m._sender, request, ordered=ordered)\n",
      "\u001b[36mFile \u001b[39m\u001b[32mc:\\Users\\Specter\\Documents\\Tenx_Academy\\Week-7\\telegram-medical-insights\\.venv\\Lib\\site-packages\\telethon\\client\\users.py:72\u001b[39m, in \u001b[36mUserMethods._call\u001b[39m\u001b[34m(self, sender, request, ordered, flood_sleep_threshold)\u001b[39m\n\u001b[32m     70\u001b[39m \u001b[38;5;28;01mfor\u001b[39;00m attempt \u001b[38;5;129;01min\u001b[39;00m retry_range(\u001b[38;5;28mself\u001b[39m._request_retries):\n\u001b[32m     71\u001b[39m     \u001b[38;5;28;01mtry\u001b[39;00m:\n\u001b[32m---> \u001b[39m\u001b[32m72\u001b[39m         future = \u001b[43msender\u001b[49m\u001b[43m.\u001b[49m\u001b[43msend\u001b[49m\u001b[43m(\u001b[49m\u001b[43mrequest\u001b[49m\u001b[43m,\u001b[49m\u001b[43m \u001b[49m\u001b[43mordered\u001b[49m\u001b[43m=\u001b[49m\u001b[43mordered\u001b[49m\u001b[43m)\u001b[49m\n\u001b[32m     73\u001b[39m         \u001b[38;5;28;01mif\u001b[39;00m \u001b[38;5;28misinstance\u001b[39m(future, \u001b[38;5;28mlist\u001b[39m):\n\u001b[32m     74\u001b[39m             results = []\n",
      "\u001b[36mFile \u001b[39m\u001b[32mc:\\Users\\Specter\\Documents\\Tenx_Academy\\Week-7\\telegram-medical-insights\\.venv\\Lib\\site-packages\\telethon\\network\\mtprotosender.py:179\u001b[39m, in \u001b[36mMTProtoSender.send\u001b[39m\u001b[34m(self, request, ordered)\u001b[39m\n\u001b[32m    156\u001b[39m \u001b[38;5;250m\u001b[39m\u001b[33;03m\"\"\"\u001b[39;00m\n\u001b[32m    157\u001b[39m \u001b[33;03mThis method enqueues the given request to be sent. Its send\u001b[39;00m\n\u001b[32m    158\u001b[39m \u001b[33;03mstate will be saved until a response arrives, and a ``Future``\u001b[39;00m\n\u001b[32m   (...)\u001b[39m\u001b[32m    176\u001b[39m \u001b[33;03mimpossible to await receive a result that was never sent.\u001b[39;00m\n\u001b[32m    177\u001b[39m \u001b[33;03m\"\"\"\u001b[39;00m\n\u001b[32m    178\u001b[39m \u001b[38;5;28;01mif\u001b[39;00m \u001b[38;5;129;01mnot\u001b[39;00m \u001b[38;5;28mself\u001b[39m._user_connected:\n\u001b[32m--> \u001b[39m\u001b[32m179\u001b[39m     \u001b[38;5;28;01mraise\u001b[39;00m \u001b[38;5;167;01mConnectionError\u001b[39;00m(\u001b[33m'\u001b[39m\u001b[33mCannot send requests while disconnected\u001b[39m\u001b[33m'\u001b[39m)\n\u001b[32m    181\u001b[39m \u001b[38;5;28;01mif\u001b[39;00m \u001b[38;5;129;01mnot\u001b[39;00m utils.is_list_like(request):\n\u001b[32m    182\u001b[39m     \u001b[38;5;28;01mtry\u001b[39;00m:\n",
      "\u001b[31mConnectionError\u001b[39m: Cannot send requests while disconnected"
     ]
    }
   ],
   "source": [
    "await download_images_from_channels()"
   ]
  },
  {
   "cell_type": "code",
   "execution_count": null,
   "id": "a6af724c",
   "metadata": {},
   "outputs": [],
   "source": []
  }
 ],
 "metadata": {
  "kernelspec": {
   "display_name": ".venv",
   "language": "python",
   "name": "python3"
  },
  "language_info": {
   "codemirror_mode": {
    "name": "ipython",
    "version": 3
   },
   "file_extension": ".py",
   "mimetype": "text/x-python",
   "name": "python",
   "nbconvert_exporter": "python",
   "pygments_lexer": "ipython3",
   "version": "3.12.8"
  }
 },
 "nbformat": 4,
 "nbformat_minor": 5
}
