{
 "cells": [
  {
   "cell_type": "code",
   "execution_count": null,
   "id": "897b8a35",
   "metadata": {},
   "outputs": [],
   "source": [
    "import pandas as pd \n",
    "import numpy as np \n",
    "import sys\n",
    "import asyncio\n",
    "import datetime\n",
    "import os\n",
    "import psycopg2\n",
    "from psycopg2.extensions import ISOLATION_LEVEL_AUTOCOMMIT\n",
    "from dotenv import load_dotenv\n",
    "\n",
    "sys.path.append('../scripts')\n",
    "\n",
    "from telegram_scraper import scrape_telegram_channels, download_images_from_channels\n",
    "from load_json_to_postgres import load_json_data_main\n",
    "\n"
   ]
  },
  {
   "cell_type": "code",
   "execution_count": null,
   "id": "c213364f",
   "metadata": {},
   "outputs": [],
   "source": [
    "# Load all secretes \n",
    "\n",
    "from config import API_HOST, API_PORT, POSTGRES_USER\n",
    "\n",
    "print(f\"Connecting to DB as user: {POSTGRES_USER}\")\n"
   ]
  },
  {
   "cell_type": "markdown",
   "id": "1ce63076",
   "metadata": {},
   "source": [
    "## Data Scraping and Collection (Extract & Load)\n",
    "Extract relevant text, image, price, product name, and timestamp data from public Telegram channels and save it to your raw data zone (e.g., JSON or Parquet files)."
   ]
  },
  {
   "cell_type": "markdown",
   "id": "58f97045",
   "metadata": {},
   "source": [
    "### Scraping Telegram data using json format"
   ]
  },
  {
   "cell_type": "code",
   "execution_count": null,
   "id": "0a094637",
   "metadata": {},
   "outputs": [],
   "source": [
    "# Run the async scraper function from notebook\n",
    "await scrape_telegram_channels()"
   ]
  },
  {
   "cell_type": "markdown",
   "id": "f9f10d96",
   "metadata": {},
   "source": [
    "### Scraping Telegram image data \n",
    "Image Scraping from Telegram Channels"
   ]
  },
  {
   "cell_type": "code",
   "execution_count": 3,
   "id": "04e1c52a",
   "metadata": {},
   "outputs": [
    {
     "name": "stdout",
     "output_type": "stream",
     "text": [
      "🔌 Connecting to Telegram...\n",
      "✅ Connected to Telegram.\n",
      "🖼️  Downloading images from: https://t.me/Chemed123\n",
      "✅ Downloaded 67 images from CheMed → data/images\\CheMed123\n",
      "🖼️  Downloading images from: https://t.me/lobelia4cosmetics\n",
      "✅ Downloaded 1000 images from Lobelia pharmacy and cosmetics → data/images\\lobelia4cosmetics\n",
      "🖼️  Downloading images from: https://t.me/tikvahpharma\n",
      "✅ Downloaded 299 images from Tikvah | Pharma → data/images\\tikvahpharma\n"
     ]
    }
   ],
   "source": [
    "await download_images_from_channels()"
   ]
  },
  {
   "cell_type": "code",
   "execution_count": 5,
   "id": "a6af724c",
   "metadata": {},
   "outputs": [
    {
     "name": "stdout",
     "output_type": "stream",
     "text": [
      "🔌 Connecting to Telegram...\n",
      "✅ Connected to Telegram.\n",
      "🔍 Scraping messages from: https://t.me/Chemed123\n",
      "✅ Saved 72 messages → data\\raw\\telegram_messages\\2025-07-11\\CheMed123.json\n",
      "🔍 Scraping messages from: https://t.me/lobelia4cosmetics\n",
      "✅ Saved 1000 messages → data\\raw\\telegram_messages\\2025-07-11\\lobelia4cosmetics.json\n",
      "🔍 Scraping messages from: https://t.me/tikvahpharma\n",
      "✅ Saved 999 messages → data\\raw\\telegram_messages\\2025-07-11\\tikvahpharma.json\n"
     ]
    }
   ],
   "source": [
    "await scrape_telegram_channels()"
   ]
  },
  {
   "cell_type": "markdown",
   "id": "88a5dfaa",
   "metadata": {},
   "source": [
    "### Organize your raw data in a partitioned directory structure\n",
    "✅ Structured raw data lake (partitioned JSON)\n",
    "\n",
    "✅ Organized image saving by channel\n",
    "\n",
    "✅ Robust logging to logs/telegram_scraper.log and console\n",
    "\n",
    "✅ Error handling and clear logging messages"
   ]
  },
  {
   "cell_type": "code",
   "execution_count": 3,
   "id": "1e292fb8",
   "metadata": {},
   "outputs": [
    {
     "name": "stderr",
     "output_type": "stream",
     "text": [
      "2025-07-11 16:36:21,567 | INFO | Scraping messages from: https://t.me/Chemed123\n",
      "2025-07-11 16:36:22,309 | INFO | Saved 72 messages to data\\raw\\telegram_messages\\2025-07-11\\CheMed123.json\n",
      "2025-07-11 16:36:22,309 | INFO | Scraping messages from: https://t.me/lobelia4cosmetics\n",
      "2025-07-11 16:36:26,921 | INFO | Saved 1000 messages to data\\raw\\telegram_messages\\2025-07-11\\lobelia4cosmetics.json\n",
      "2025-07-11 16:36:26,922 | INFO | Scraping messages from: https://t.me/tikvahpharma\n",
      "2025-07-11 16:36:33,415 | INFO | Saved 999 messages to data\\raw\\telegram_messages\\2025-07-11\\tikvahpharma.json\n"
     ]
    }
   ],
   "source": [
    "await scrape_telegram_channels()"
   ]
  },
  {
   "cell_type": "markdown",
   "id": "5f64d5c3",
   "metadata": {},
   "source": [
    "## Data Modeling and Transformation (Transform)"
   ]
  },
  {
   "cell_type": "markdown",
   "id": "9a51200b",
   "metadata": {},
   "source": [
    "Raw data is messy and untrustworthy. DBT helps us build a reliable \"data factory\" to transform this raw material into a clean, trusted data product. It allows us to:\n",
    "\n",
    "●\tTransform chaos into clean, structured tables.\n",
    "\n",
    "●\tModel the data into a standard star schema, creating a single source of truth for analytics.\n",
    "\n",
    "●\tTest our data to prevent bad data from reaching our users, building trust.\n",
    "\n",
    "●\tModularize our logic, making the system scalable and easy to maintain.\n"
   ]
  },
  {
   "cell_type": "code",
   "execution_count": null,
   "id": "5ea6ba26",
   "metadata": {},
   "outputs": [],
   "source": [
    "# Load today’s data (or pass a date like \"2025-07-11\")\n",
    "load_json_data_main(\"2025-07-11\")"
   ]
  },
  {
   "cell_type": "markdown",
   "id": "7e386e73",
   "metadata": {},
   "source": [
    "## Create the DB on postgreSQL using DBname telegram_medical_db"
   ]
  },
  {
   "cell_type": "code",
   "execution_count": null,
   "id": "83f6ae84",
   "metadata": {},
   "outputs": [
    {
     "name": "stdout",
     "output_type": "stream",
     "text": [
      "✅ Created telegram_medical_db\n"
     ]
    }
   ],
   "source": [
    "conn = psycopg2.connect(\n",
    "    dbname=\"postgres\",  # connect to default DB\n",
    "    user=os.getenv(\"PG_USER\"),\n",
    "    password=os.getenv(\"PG_PASSWORD\"),\n",
    "    host=os.getenv(\"PG_HOST\"),\n",
    "    port=os.getenv(\"PG_PORT\")\n",
    ")\n",
    "\n",
    "conn.set_isolation_level(ISOLATION_LEVEL_AUTOCOMMIT)\n",
    "cursor = conn.cursor()\n",
    "cursor.execute(\"CREATE DATABASE telegram_medical_db;\")\n",
    "cursor.close()\n",
    "conn.close()\n",
    "print(\"✅ Created telegram_medical_db\")\n"
   ]
  },
  {
   "cell_type": "markdown",
   "id": "2b19b80f",
   "metadata": {},
   "source": [
    "### Check the connection to PostgreSQL"
   ]
  },
  {
   "cell_type": "code",
   "execution_count": null,
   "id": "4e62f0cd",
   "metadata": {},
   "outputs": [
    {
     "name": "stdout",
     "output_type": "stream",
     "text": [
      "✅ Connected to PostgreSQL\n"
     ]
    }
   ],
   "source": [
    "load_dotenv()  # Adjust path if needed\n",
    "\n",
    "conn = psycopg2.connect(\n",
    "    host=os.getenv(\"PG_HOST\"),\n",
    "    port=os.getenv(\"PG_PORT\"),\n",
    "    dbname=os.getenv(\"PG_DB\"),\n",
    "    user=os.getenv(\"PG_USER\"),\n",
    "    password=os.getenv(\"PG_PASSWORD\")\n",
    ")\n",
    "\n",
    "print(\"✅ Connected to PostgreSQL\")\n",
    "conn.close()\n"
   ]
  },
  {
   "cell_type": "code",
   "execution_count": null,
   "id": "a5aa22b5",
   "metadata": {},
   "outputs": [],
   "source": []
  }
 ],
 "metadata": {
  "kernelspec": {
   "display_name": ".venv",
   "language": "python",
   "name": "python3"
  },
  "language_info": {
   "codemirror_mode": {
    "name": "ipython",
    "version": 3
   },
   "file_extension": ".py",
   "mimetype": "text/x-python",
   "name": "python",
   "nbconvert_exporter": "python",
   "pygments_lexer": "ipython3",
   "version": "3.12.8"
  }
 },
 "nbformat": 4,
 "nbformat_minor": 5
}
