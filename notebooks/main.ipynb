{
 "cells": [
  {
   "cell_type": "code",
   "execution_count": null,
   "id": "897b8a35",
   "metadata": {},
   "outputs": [],
   "source": [
    "import pandas as pd \n",
    "import numpy as np \n"
   ]
  },
  {
   "cell_type": "code",
   "execution_count": null,
   "id": "c213364f",
   "metadata": {},
   "outputs": [],
   "source": [
    "# Load all secretes \n",
    "\n",
    "from config import API_HOST, API_PORT, POSTGRES_USER\n",
    "\n",
    "print(f\"Connecting to DB as user: {POSTGRES_USER}\")\n"
   ]
  }
 ],
 "metadata": {
  "kernelspec": {
   "display_name": ".venv",
   "language": "python",
   "name": "python3"
  },
  "language_info": {
   "name": "python",
   "version": "3.12.8"
  }
 },
 "nbformat": 4,
 "nbformat_minor": 5
}
