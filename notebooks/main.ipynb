{
 "cells": [
  {
   "cell_type": "code",
   "execution_count": 2,
   "id": "897b8a35",
   "metadata": {},
   "outputs": [],
   "source": [
    "import pandas as pd \n",
    "import numpy as np \n",
    "import sys\n",
    "import asyncio\n",
    "sys.path.append('../scripts')\n",
    "\n",
    "from telegram_scraper import scrape_telegram_channels, download_images_from_channels"
   ]
  },
  {
   "cell_type": "code",
   "execution_count": null,
   "id": "c213364f",
   "metadata": {},
   "outputs": [],
   "source": [
    "# Load all secretes \n",
    "\n",
    "from config import API_HOST, API_PORT, POSTGRES_USER\n",
    "\n",
    "print(f\"Connecting to DB as user: {POSTGRES_USER}\")\n"
   ]
  },
  {
   "cell_type": "markdown",
   "id": "1ce63076",
   "metadata": {},
   "source": [
    "## Data Scraping and Collection (Extract & Load)\n",
    "Extract relevant text, image, price, product name, and timestamp data from public Telegram channels and save it to your raw data zone (e.g., JSON or Parquet files)."
   ]
  },
  {
   "cell_type": "markdown",
   "id": "58f97045",
   "metadata": {},
   "source": [
    "### Scraping Telegram data using json format"
   ]
  },
  {
   "cell_type": "code",
   "execution_count": null,
   "id": "0a094637",
   "metadata": {},
   "outputs": [],
   "source": [
    "# Run the async scraper function from notebook\n",
    "await scrape_telegram_channels()"
   ]
  },
  {
   "cell_type": "markdown",
   "id": "f9f10d96",
   "metadata": {},
   "source": [
    "### Scraping Telegram image data \n",
    "Image Scraping from Telegram Channels"
   ]
  },
  {
   "cell_type": "code",
   "execution_count": 3,
   "id": "04e1c52a",
   "metadata": {},
   "outputs": [
    {
     "name": "stdout",
     "output_type": "stream",
     "text": [
      "🔌 Connecting to Telegram...\n",
      "✅ Connected to Telegram.\n",
      "🖼️  Downloading images from: https://t.me/Chemed123\n",
      "✅ Downloaded 67 images from CheMed → data/images\\CheMed123\n",
      "🖼️  Downloading images from: https://t.me/lobelia4cosmetics\n",
      "✅ Downloaded 1000 images from Lobelia pharmacy and cosmetics → data/images\\lobelia4cosmetics\n",
      "🖼️  Downloading images from: https://t.me/tikvahpharma\n",
      "✅ Downloaded 299 images from Tikvah | Pharma → data/images\\tikvahpharma\n"
     ]
    }
   ],
   "source": [
    "await download_images_from_channels()"
   ]
  },
  {
   "cell_type": "code",
   "execution_count": 5,
   "id": "a6af724c",
   "metadata": {},
   "outputs": [
    {
     "name": "stdout",
     "output_type": "stream",
     "text": [
      "🔌 Connecting to Telegram...\n",
      "✅ Connected to Telegram.\n",
      "🔍 Scraping messages from: https://t.me/Chemed123\n",
      "✅ Saved 72 messages → data\\raw\\telegram_messages\\2025-07-11\\CheMed123.json\n",
      "🔍 Scraping messages from: https://t.me/lobelia4cosmetics\n",
      "✅ Saved 1000 messages → data\\raw\\telegram_messages\\2025-07-11\\lobelia4cosmetics.json\n",
      "🔍 Scraping messages from: https://t.me/tikvahpharma\n",
      "✅ Saved 999 messages → data\\raw\\telegram_messages\\2025-07-11\\tikvahpharma.json\n"
     ]
    }
   ],
   "source": [
    "await scrape_telegram_channels()"
   ]
  },
  {
   "cell_type": "markdown",
   "id": "88a5dfaa",
   "metadata": {},
   "source": [
    "### Organize your raw data in a partitioned directory structure\n",
    "✅ Structured raw data lake (partitioned JSON)\n",
    "\n",
    "✅ Organized image saving by channel\n",
    "\n",
    "✅ Robust logging to logs/telegram_scraper.log and console\n",
    "\n",
    "✅ Error handling and clear logging messages"
   ]
  },
  {
   "cell_type": "code",
   "execution_count": null,
   "id": "1e292fb8",
   "metadata": {},
   "outputs": [],
   "source": []
  }
 ],
 "metadata": {
  "kernelspec": {
   "display_name": ".venv",
   "language": "python",
   "name": "python3"
  },
  "language_info": {
   "codemirror_mode": {
    "name": "ipython",
    "version": 3
   },
   "file_extension": ".py",
   "mimetype": "text/x-python",
   "name": "python",
   "nbconvert_exporter": "python",
   "pygments_lexer": "ipython3",
   "version": "3.12.8"
  }
 },
 "nbformat": 4,
 "nbformat_minor": 5
}
