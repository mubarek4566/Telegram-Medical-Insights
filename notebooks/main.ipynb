{
 "cells": [
  {
   "cell_type": "code",
   "execution_count": 1,
   "id": "897b8a35",
   "metadata": {},
   "outputs": [],
   "source": [
    "import pandas as pd \n",
    "import numpy as np \n",
    "import sys\n",
    "import asyncio\n",
    "sys.path.append('../scripts')\n",
    "\n",
    "from telegram_scraper import scrape_telegram_channels"
   ]
  },
  {
   "cell_type": "code",
   "execution_count": null,
   "id": "c213364f",
   "metadata": {},
   "outputs": [],
   "source": [
    "# Load all secretes \n",
    "\n",
    "from config import API_HOST, API_PORT, POSTGRES_USER\n",
    "\n",
    "print(f\"Connecting to DB as user: {POSTGRES_USER}\")\n"
   ]
  },
  {
   "cell_type": "markdown",
   "id": "1ce63076",
   "metadata": {},
   "source": [
    "## Data Scraping and Collection (Extract & Load)\n",
    "Extract relevant text, image, price, product name, and timestamp data from public Telegram channels and save it to your raw data zone (e.g., JSON or Parquet files)."
   ]
  },
  {
   "cell_type": "markdown",
   "id": "58f97045",
   "metadata": {},
   "source": [
    "### Scraping Telegram data using json format"
   ]
  },
  {
   "cell_type": "code",
   "execution_count": 2,
   "id": "0a094637",
   "metadata": {},
   "outputs": [
    {
     "name": "stdout",
     "output_type": "stream",
     "text": [
      "Scraping: https://t.me/Chemed123\n",
      "Scraping: https://t.me/lobelia4cosmetics\n",
      "Scraping: https://t.me/tikvahpharma\n",
      "✅ Saved 2071 messages to data/raw/telegram_messages.json\n"
     ]
    }
   ],
   "source": [
    "# Run the async scraper function from notebook\n",
    "await scrape_telegram_channels()"
   ]
  },
  {
   "cell_type": "markdown",
   "id": "f9f10d96",
   "metadata": {},
   "source": [
    "### Scraping Telegram image data "
   ]
  },
  {
   "cell_type": "code",
   "execution_count": null,
   "id": "04e1c52a",
   "metadata": {},
   "outputs": [],
   "source": []
  },
  {
   "cell_type": "code",
   "execution_count": null,
   "id": "a6af724c",
   "metadata": {},
   "outputs": [],
   "source": []
  }
 ],
 "metadata": {
  "kernelspec": {
   "display_name": ".venv",
   "language": "python",
   "name": "python3"
  },
  "language_info": {
   "codemirror_mode": {
    "name": "ipython",
    "version": 3
   },
   "file_extension": ".py",
   "mimetype": "text/x-python",
   "name": "python",
   "nbconvert_exporter": "python",
   "pygments_lexer": "ipython3",
   "version": "3.12.8"
  }
 },
 "nbformat": 4,
 "nbformat_minor": 5
}
